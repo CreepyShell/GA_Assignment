{
 "cells": [
  {
   "cell_type": "markdown",
   "metadata": {
    "id": "UuU23he_msf6"
   },
   "source": [
    "# Genetic Algorithm Assignment"
   ]
  },
  {
   "cell_type": "markdown",
   "metadata": {
    "id": "xOpdeYD9oLWi"
   },
   "source": [
    "## The Problem         **(~30%)**\n",
    "\n",
    "<h4>Description of the problem</h4>\n",
    "\n",
    "\n",
    "\n"
   ]
  },
  {
   "cell_type": "markdown",
   "metadata": {
    "id": "4uQ4i7aopwP0"
   },
   "source": [
    "This assignment involves working with a dataset of used cars and applying a genetic algorithm to develop a formula that predicts the price of a used car based on various attributes. These attributes include both categorical and numerical properties of the car, such as its condition, manufacturer, cylinder, fuel type, transmission, drive type, size, model type, state, odometer reading, and year of manufacture.\n",
    "\n",
    "It is assumed that the formula for predicting the used car price can be expressed as a weighted sum of these attributes. Specifically, the equation is structured as follows:\n",
    "\n",
    "    F(used_car_price) = manufacturer * manufacturer_gene + year * year_gene + odometer * odometer_gene ...\n",
    "\n",
    "The objective is to use the genetic algorithm to optimize the weights for each property and derive an accurate predictive model for the car prices."
   ]
  },
  {
   "cell_type": "markdown",
   "metadata": {
    "id": "rWvzNi3uqCKy"
   },
   "source": [
    "<br><h4>Discussion of the suitablity of Genetic Algorithms</h4>\n"
   ]
  },
  {
   "cell_type": "markdown",
   "metadata": {
    "id": "aMzEaqZAqmYT"
   },
   "source": [
    "Genetic Algorithms (GAs) can be a suitable tool for estimating used car prices because they are capable of optimizing complex, non-linear relationships between input features and output values. By evolving weights for features - including numeric and one-hot encoded categorical variables - GAs can effectively discover which factors have the most influence on car prices, even without assuming any specific mathematical relationship. Their flexibility and global search capabilities make them especially useful in high-dimensional problems where traditional models might struggle.\n",
    "\n",
    "However, the performance of a GA heavily depends on the design of its fitness (cost) function. If the cost function poorly reflects real-world pricing logic, the algorithm can converge on solutions that are mathematically optimal but practically meaningless. Additionally, GAs can be computationally intensive and offer limited interpretability compared to more traditional models. While GAs offer a creative way to evolve a pricing formula, their effectiveness is ultimately constrained by the quality of the objective they are optimizing.\n",
    "\n",
    "As mentioned above, this project assumes that the price of a used car can be represented as a weighted sum of its features. However, in reality, the relationship between car attributes and price is often much more complex. For example, odometer readings affect different car models in different ways—some engines are built to last much longer than others—so subtracting a fixed value based on mileage across all cars may not reflect true market behavior. Similar issues arise with other features like fuel type, drivetrain, or size, where their influence on price might be non-linear or depend on combinations of features.\n",
    "\n",
    "Despite these limitations, a Genetic Algorithm can still offer useful insights. Even if the final formula isn't perfectly accurate for every individual car, the algorithm tends to evolve a set of weights that represent an average influence of each feature on price. In this way, it helps identify general trends—such as how odometer, fuel type, or size typically impact a vehicle's value—and allows for rough price estimation based on those trends"
   ]
  },
  {
   "cell_type": "markdown",
   "metadata": {
    "id": "1c4zr525qHk0"
   },
   "source": [
    " <br><h4>Complexity of the problem  </h4>"
   ]
  },
  {
   "cell_type": "markdown",
   "metadata": {},
   "source": [
    "To develop a robust Genetic Algorithm for predicting used car prices, several key steps were necessary to handle the complexity of the data and the optimization process:\n",
    "\n",
    "<i>Dataset Selection and Cleaning</i>: The first step was to find a dataset rich in relevant car properties. This was critical because missing an important feature - such as year, fuel type, or manufacturer - could result in completely inaccurate price predictions. Data cleaning was equally important, as the dataset included many null values and unrealistic entries, such as 100-year-old vehicles or cars with a price of zero. These outliers needed to be removed to ensure a reliable training set.\n",
    "\n",
    "<i>One-Hot Encoding for Categorical Features</i>: The dataset contained both numerical and categorical values. Numerical features like odometer or year could be directly used in the cost function. However, categorical features (e.g., fuel type, manufacturer, drive) required a more thoughtful approach. Replacing these with ordered numbers (e.g., gas = 1, electric = 4) would incorrectly imply a linear relationship. Instead, one-hot encoding was used to assign individual weights to each category, allowing the Genetic Algorithm to evolve specific impacts for each value. For example, if a car uses gas, only the gene associated with “gas” would contribute to the final price. While this method doesn't account for interactions between features, it provides a more accurate and flexible representation than simple numerical encoding.\n",
    "\n",
    "<i>Individual Design</i>: Each individual in the population represents a potential pricing formula, composed of both numerical and categorical gene weights. Since some properties (like year or odometer) naturally decrease the value of a car, the design assumed that these features reduce the total cost. To manage this, individuals were structured as an array containing two dictionaries: one for numeric features and one for categorical features. For numeric properties, each key holds a single weight value, while categorical features store arrays of weights—one for each unique category (e.g., fuel types). This structure makes it easier to manage crossover and mutation operations by clearly separating feature types and allowing fine-grained control over how each gene is modified or inherited.\n",
    "\n",
    "<i>Mutation</i>: Mutation was implemented using the cost function to guide adjustments in gene values. This allowed for controlled changes aimed at improving overall fitness rather than applying random alterations. While not particularly complex, this step required careful logic to ensure that mutations led to meaningful improvements rather than degrading the solution.\n",
    "\n",
    "<i>Crossover</i>: The crossover function was designed to generate two children from two parents using different strategies. In both cases, genes from the fitter parent were combined with those of the less fit parent to create new individuals. Since the car price is determined by the combination of gene weights, this method increases the chance of producing better offspring over time. However, due to the problem's complexity and high dimensionality, many generations may still be required to reach a near-optimal solution"
   ]
  },
  {
   "cell_type": "code",
   "execution_count": 36,
   "metadata": {},
   "outputs": [],
   "source": [
    "#!!!!!!!!!!!!!!!!!!!!!!!!!!!!!!!!!!!!!!!!!!!!!!!!!!!!!!!!!!!!!!!!!!!!!!!!!!!!!!!!!!!\n",
    "#This code should be run only if an original vehicles.csv file is used.\n",
    "#It can be found in the kaggle datasets using this link (the file was too heave for github.com):\n",
    "#https://www.kaggle.com/datasets/austinreese/craigslist-carstrucks-data\n",
    "#Otherwise this cell should be skipped, the next one can be run\n",
    "#!!!!!!!!!!!!!!!!!!!!!!!!!!!!!!!!!!!!!!!!!!!!!!!!!!!!!!!!!!!!!!!!!!!!!!!!!\n",
    "import pandas as pd\n",
    "import numpy as np\n",
    "import matplotlib.pyplot as plt\n",
    "from copy import deepcopy\n",
    "import random\n",
    "used_cars = pd.read_csv('vehicles.csv')\n",
    "\n",
    "#removing unnecessary columns from the dataset\n",
    "used_cars.drop('id', axis=1, inplace=True)\n",
    "used_cars.drop('url', axis=1, inplace=True)\n",
    "used_cars.drop('region_url', axis=1, inplace=True)\n",
    "used_cars.drop('paint_color', axis=1, inplace=True)\n",
    "used_cars.drop('lat', axis=1, inplace=True)\n",
    "used_cars.drop('posting_date', axis=1, inplace=True)\n",
    "used_cars.drop('long', axis=1, inplace=True)\n",
    "used_cars.drop('image_url', axis=1, inplace=True)\n",
    "used_cars.drop('title_status', axis=1, inplace=True)\n",
    "used_cars.drop('VIN', axis=1, inplace=True)\n",
    "used_cars.drop('description', axis=1, inplace=True)\n",
    "used_cars.drop('county', axis=1, inplace=True)\n",
    "used_cars.drop('model', axis=1, inplace=True)\n",
    "used_cars.drop('region', axis=1, inplace=True)\n",
    "\n",
    "#dropping all null values from important columns\n",
    "used_cars.dropna(subset = ['price', 'year', 'manufacturer', 'cylinders',\n",
    "                           'fuel', 'odometer', 'transmission', 'drive', 'size',\n",
    "                          'type', 'state', 'condition'], inplace=True)\n",
    "\n",
    "used_cars = used_cars.loc[used_cars['fuel'] != 'other']\n",
    "used_cars = used_cars.loc[used_cars['cylinders'] != 'other']\n",
    "used_cars = used_cars.loc[used_cars['transmission'] != 'other']\n",
    "used_cars = used_cars.loc[used_cars['type'] != 'other']\n",
    "\n",
    "# Remove unrealistic years\n",
    "used_cars = used_cars[(used_cars['year'] >= 1990) & (used_cars['year'] <= 2025)]\n",
    "\n",
    "#Remove unrealistic prices\n",
    "used_cars = used_cars[(used_cars['price'] > 500) & (used_cars['price'] < 50000)]  # Reasonable car prices\n",
    "\n",
    "#Remove unrealistic values\n",
    "used_cars = used_cars[(used_cars['odometer'] > 1000) & (used_cars['odometer'] < 1000000)] \n",
    "\n",
    "#function for transforming \n",
    "def get_indexes(column):\n",
    "    items = {}\n",
    "    count = 1\n",
    "    for item in used_cars[column].unique():\n",
    "        items[item] = count\n",
    "        count=count+1\n",
    "    return items\n",
    "\n",
    "# Although the one-hot encoded values may look like simple numeric replacements, they are actually\n",
    "# placeholders for weights. Each unique categorical value is always assigned to the same index in\n",
    "# the encoded array— for example, \"gas\" might always appear at index 0, \"diesel\" at index 1, and so on.\n",
    "# Later in the algorithm, these indexes are not treated as actual values but are instead linked to\n",
    "# evolving weights that represent the influence of each category on the final price. This consistent\n",
    "# indexing allows for easy replacement with weights during evaluation, and the original string values\n",
    "# can still be retrieved using these mapping variables if needed\n",
    "condition_mapping = {'salvage': 1, 'new': 6, 'like new': 4,'good' : 3, 'fair' : 2, 'excellent': 5}\n",
    "manufacturer_mapping = get_indexes('manufacturer')\n",
    "cylinders_mapping = get_indexes('cylinders')\n",
    "fuel_mapping = {'gas': 1, 'diesel': 2, 'hybrid': 3, 'electric': 4}\n",
    "transmission_mapping = {'automatic': 1, 'manual': 2}\n",
    "drive_mapping = {'rwd': 1, '4wd': 2, 'fwd': 3}\n",
    "size_mapping = {'full-size': 1, 'mid-size': 2, 'compact': 3, 'sub-compact': 4}\n",
    "type_mapping = get_indexes('type')\n",
    "state_mapping = get_indexes('state')\n",
    "\n",
    "#transforming year into age. if a car was created in 2012, the age will be 2025-2012=13 years old\n",
    "used_cars['age'] = used_cars['year'].apply(lambda x: 2025 - x)\n",
    "used_cars.drop('year', axis=1, inplace=True)\n",
    "\n",
    "#implementing one-hot encoding\n",
    "used_cars['condition'] = used_cars['condition'].replace(condition_mapping)\n",
    "used_cars['manufacturer'] = used_cars['manufacturer'].replace(manufacturer_mapping)\n",
    "used_cars['cylinders'] = used_cars['cylinders'].replace(cylinders_mapping)\n",
    "used_cars['fuel'] = used_cars['fuel'].replace(fuel_mapping)\n",
    "used_cars['transmission'] = used_cars['transmission'].replace(transmission_mapping)\n",
    "used_cars['drive'] = used_cars['drive'].replace(drive_mapping)\n",
    "used_cars['size'] = used_cars['size'].replace(size_mapping)\n",
    "used_cars['type'] = used_cars['type'].replace(type_mapping)\n",
    "used_cars['state'] = used_cars['state'].replace(state_mapping)\n",
    "\n",
    "#function to get genes structure\n",
    "def get_genes():\n",
    "    genes = [{}, {}]\n",
    "    for column in used_cars.columns:\n",
    "        if column == 'age' or column == 'price' or column == 'odometer' or column == 'condition':\n",
    "            continue\n",
    "        genes[0][column] = [1000 for value in range(0, used_cars[column].value_counts().count())]\n",
    "    genes[1]['age'] = -50\n",
    "    genes[1]['odometer'] = -5/1000\n",
    "    genes[1]['condition'] = 200\n",
    "    return genes"
   ]
  },
  {
   "cell_type": "code",
   "execution_count": 38,
   "metadata": {},
   "outputs": [],
   "source": [
    "#!!!!!!!!!!!!!!!!!!!!!!!!!!!!!!!!!!!!!!!!!!!!!!!!!!!!!!!!!!!!!!!!!!!!!!!!!!!!!!!!!!!!!!!!!!\n",
    "#This code should be run only if the vehicles file that came with this file from github is used\n",
    "#!!!!!!!!!!!!!!!!!!!!!!!!!!!!!!!!!!!!!!!!!!!!!!!!!!!!!!!!!!!!!!!!!!!!!!!!!!!!!!!!!!!!!!!!!!!!!!\n",
    "import pandas as pd\n",
    "import numpy as np\n",
    "import matplotlib.pyplot as plt\n",
    "from copy import deepcopy\n",
    "import random\n",
    "used_cars = pd.read_csv('cleaned_vehicles.csv')\n",
    "\n",
    "#function for transforming \n",
    "def get_indexes(column):\n",
    "    items = {}\n",
    "    count = 1\n",
    "    for item in used_cars[column].unique():\n",
    "        items[item] = count\n",
    "        count=count+1\n",
    "    return items\n",
    "\n",
    "# Although the one-hot encoded values may look like simple numeric replacements, they are actually\n",
    "# placeholders for weights. Each unique categorical value is always assigned to the same index in\n",
    "# the encoded array— for example, \"gas\" might always appear at index 0, \"diesel\" at index 1, and so on.\n",
    "# Later in the algorithm, these indexes are not treated as actual values but are instead linked to\n",
    "# evolving weights that represent the influence of each category on the final price. This consistent\n",
    "# indexing allows for easy replacement with weights during evaluation, and the original string values\n",
    "# can still be retrieved using these mapping variables if needed\n",
    "condition_mapping = {'salvage': 1, 'new': 6, 'like new': 4,'good' : 3, 'fair' : 2, 'excellent': 5}\n",
    "manufacturer_mapping = get_indexes('manufacturer')\n",
    "cylinders_mapping = get_indexes('cylinders')\n",
    "fuel_mapping = {'gas': 1, 'diesel': 2, 'hybrid': 3, 'electric': 4}\n",
    "transmission_mapping = {'automatic': 1, 'manual': 2}\n",
    "drive_mapping = {'rwd': 1, '4wd': 2, 'fwd': 3}\n",
    "size_mapping = {'full-size': 1, 'mid-size': 2, 'compact': 3, 'sub-compact': 4}\n",
    "type_mapping = get_indexes('type')\n",
    "state_mapping = get_indexes('state')\n",
    "\n",
    "#implementing one-hot encoding\n",
    "used_cars['condition'] = used_cars['condition'].replace(condition_mapping)\n",
    "used_cars['manufacturer'] = used_cars['manufacturer'].replace(manufacturer_mapping)\n",
    "used_cars['cylinders'] = used_cars['cylinders'].replace(cylinders_mapping)\n",
    "used_cars['fuel'] = used_cars['fuel'].replace(fuel_mapping)\n",
    "used_cars['transmission'] = used_cars['transmission'].replace(transmission_mapping)\n",
    "used_cars['drive'] = used_cars['drive'].replace(drive_mapping)\n",
    "used_cars['size'] = used_cars['size'].replace(size_mapping)\n",
    "used_cars['type'] = used_cars['type'].replace(type_mapping)\n",
    "used_cars['state'] = used_cars['state'].replace(state_mapping)\n",
    "\n",
    "#function to get genes structure\n",
    "def get_genes():\n",
    "    genes = [{}, {}]\n",
    "    for column in used_cars.columns:\n",
    "        if column == 'age' or column == 'price' or column == 'odometer' or column == 'condition':\n",
    "            continue\n",
    "        genes[0][column] = [1000 for value in range(0, used_cars[column].value_counts().count())]\n",
    "    genes[1]['age'] = -50\n",
    "    genes[1]['odometer'] = -5/1000\n",
    "    genes[1]['condition'] = 200\n",
    "    return genes"
   ]
  },
  {
   "cell_type": "markdown",
   "metadata": {
    "id": "0LgfBTtdq11F"
   },
   "source": [
    "# The problem and the cost function   **(~20%)**"
   ]
  },
  {
   "cell_type": "code",
   "execution_count": 25,
   "metadata": {
    "id": "rwIdSMNqrPS5"
   },
   "outputs": [],
   "source": [
    "#cost function for calculating a price of a used car\n",
    "def cost_func(genes):\n",
    "    pos_sum = 0\n",
    "    pos_count = 0\n",
    "    neg_sum = 0\n",
    "    for index, used_car in used_cars.iterrows():\n",
    "        str_sum = 0\n",
    "        #calculating the sum of categorical values\n",
    "        for gene in genes[0]:\n",
    "            str_sum = str_sum + genes[0][gene][int(used_car[gene] - 1)]\n",
    "        \n",
    "        #calculating the sum of numerical values\n",
    "        int_sum = genes[1]['age'] * used_car['age'] + genes[1]['odometer'] * used_car['odometer'] + genes[1]['condition'] * used_car['condition']\n",
    "        \n",
    "        #finding the total sum\n",
    "        total_diff = str_sum + int_sum - used_car['price']\n",
    "        if total_diff > 0:\n",
    "            pos_sum = pos_sum + total_diff\n",
    "            pos_count = pos_count + 1\n",
    "        if total_diff <= 0:\n",
    "            neg_sum = neg_sum + total_diff\n",
    "        #returing average positive sum and average negative sum for better mutation and crossover managing\n",
    "    return (pos_sum/pos_count, neg_sum / (len(used_cars) - pos_count))\n",
    "\n",
    "\n",
    "class problem:\n",
    "    def __init__(self):\n",
    "        self.age_range = (-500, -50)\n",
    "        self.odometer_range = (-50/10000, -1000/10000)\n",
    "        self.manufacturer_range = (-1000, 20000)\n",
    "        self.condition_range = (0, 500)\n",
    "        self.cylinders_range = (100, 1000)\n",
    "        self.fuel_range = (0, 1000)\n",
    "        self.transmission_range = (0, 5000)\n",
    "        self.drive_range = (0, 2000)\n",
    "        self.size_range = (0, 2000)\n",
    "        self.type_range = (0, 5000)\n",
    "        self.state_range = (-1000, 1000)\n",
    "        \n",
    "        self.cost_function = cost_func\n",
    "        \n",
    "    def get_all_genes(self):\n",
    "        genes = [{}, {}]\n",
    "        genes[0]['manufacturer'] = [np.random.uniform(self.manufacturer_range[0], self.manufacturer_range[1]) for value in range(0, used_cars['manufacturer'].value_counts().count())]\n",
    "        genes[1]['age'] = np.random.uniform(self.age_range[0], self.age_range[1])\n",
    "        genes[1]['odometer'] = np.random.uniform(self.odometer_range[0], self.odometer_range[1])\n",
    "        genes[1]['condition'] = np.random.uniform(self.condition_range[0], self.condition_range[1])\n",
    "        genes[0]['cylinders'] = [np.random.uniform(self.cylinders_range[0], self.cylinders_range[1]) for value in range(0, used_cars['cylinders'].value_counts().count())]\n",
    "        genes[0]['fuel'] = [np.random.uniform(self.fuel_range[0], self.fuel_range[1]) for value in range(0, used_cars['fuel'].value_counts().count())]\n",
    "        genes[0]['transmission'] = [np.random.uniform(self.transmission_range[0], self.transmission_range[1]) for value in range(0, used_cars['transmission'].value_counts().count())]\n",
    "        genes[0]['drive'] = [np.random.uniform(self.drive_range[0], self.drive_range[1]) for value in range(0, used_cars['drive'].value_counts().count())]\n",
    "        genes[0]['size'] = [np.random.uniform(self.size_range[0], self.size_range[1]) for value in range(0, used_cars['size'].value_counts().count())]\n",
    "        genes[0]['type'] = [np.random.uniform(self.type_range[0], self.type_range[1]) for value in range(0, used_cars['type'].value_counts().count())]\n",
    "        genes[0]['state'] = [np.random.uniform(self.state_range[0], self.state_range[1]) for value in range(0, used_cars['state'].value_counts().count())]\n",
    "        return genes"
   ]
  },
  {
   "cell_type": "markdown",
   "metadata": {
    "id": "wBQQjO4brWFA"
   },
   "source": [
    "# The Individual **(~30%)**"
   ]
  },
  {
   "cell_type": "code",
   "execution_count": 3,
   "metadata": {},
   "outputs": [],
   "source": [
    "class individual:\n",
    "    def __init__(self,prob):\n",
    "        self.chromosome = prob.get_all_genes()\n",
    "        self.cost = prob.cost_function(self.chromosome)\n",
    "\n",
    "    def get_cost(self):\n",
    "        return self.cost[0] + abs(self.cost[1])\n",
    "\n",
    "    \n",
    "    def mutate(self, rate_of_gene_mutation, range_of_gene_mutation):\n",
    "        if self.cost[0] > abs(self.cost[1]):\n",
    "            range_of_gene_mutation = - (range_of_gene_mutation + np.random.uniform(-0.1, 0.1)) \n",
    "        for gene_index in range(3):\n",
    "            if  np.random.uniform() < rate_of_gene_mutation:\n",
    "                key = list(self.chromosome[1].keys())[gene_index]\n",
    "                self.chromosome[1][key] = self.chromosome[1][key] + self.chromosome[1][key] * range_of_gene_mutation\n",
    "        for gene_index in range(len(self.chromosome[0])):\n",
    "            key = list(self.chromosome[0].keys())[gene_index]\n",
    "            for index in range(0, len(self.chromosome[0][key])):\n",
    "                if np.random.uniform() < rate_of_gene_mutation:\n",
    "                    self.chromosome[0][key][index] += self.chromosome[0][key][index] * range_of_gene_mutation\n",
    "                    \n",
    "        \n",
    "    def crossover(self, parent2, explore_crossover):\n",
    "        is_parent2_avg_neg_greater = parent2.cost[1] < self.cost[1]\n",
    "        is_parent2_avg_pos_greater = parent2.cost[0] > self.cost[0]\n",
    "\n",
    "        loser_genes_rate = 0.5 - explore_crossover / 2\n",
    "        winner_genes_rate = 1 - loser_genes_rate\n",
    "\n",
    "        #generating the first child\n",
    "        child1 = deepcopy(self)    \n",
    "        if not is_parent2_avg_neg_greater:\n",
    "            winner_genes_rate = 0.5 - explore_crossover / 2\n",
    "            loser_genes_rate = 1 - winner_genes_rate\n",
    "\n",
    "        child1.chromosome[1]['age'] = self.chromosome[1]['age'] * winner_genes_rate + parent2.chromosome[1]['age'] * loser_genes_rate\n",
    "        child1.chromosome[1]['odometer'] = self.chromosome[1]['odometer'] * winner_genes_rate + parent2.chromosome[1]['odometer'] * loser_genes_rate\n",
    "\n",
    "        if not is_parent2_avg_pos_greater:\n",
    "            winner_genes_rate = 0.5 - explore_crossover / 2\n",
    "            loser_genes_rate = 1 - winner_genes_rate\n",
    "        else:\n",
    "            loser_genes_rate = 0.5 - explore_crossover / 2\n",
    "            winner_genes_rate = 1 - loser_genes_rate\n",
    "\n",
    "        child1.chromosome[1]['condition'] = self.chromosome[1]['condition'] * winner_genes_rate + parent2.chromosome[1]['condition'] * loser_genes_rate\n",
    "        for key in list(self.chromosome[0].keys()):\n",
    "            for i in range(0, len(child1.chromosome[0][key])):\n",
    "                child1.chromosome[0][key][i] = self.chromosome[0][key][i] * winner_genes_rate + parent2.chromosome[0][key][i] * loser_genes_rate     \n",
    "\n",
    "        #generating the second child\n",
    "        child2 = deepcopy(parent2)\n",
    "        num_genes = len(self.chromosome[1])\n",
    "        p1_genes_num = random.randint(round(explore_crossover * num_genes), num_genes)\n",
    "        p1_genes = random.sample(range(0, num_genes), p1_genes_num)\n",
    "        for i in p1_genes:\n",
    "            key = list(self.chromosome[1].keys())[i]\n",
    "            child2.chromosome[1][key] = self.chromosome[1][key]\n",
    "\n",
    "        for gene_index in range(len(child2.chromosome[0])):\n",
    "            key = list(child2.chromosome[0].keys())[gene_index]\n",
    "            num_genes = len(self.chromosome[0][key])\n",
    "            p1_genes_num = random.randint(round(explore_crossover * num_genes), num_genes)\n",
    "            p1_genes = random.sample(range(0, num_genes), p1_genes_num)\n",
    "            for index in p1_genes:\n",
    "                child2.chromosome[0][key][index] = self.chromosome[0][key][index]\n",
    "        return child1,child2"
   ]
  },
  {
   "cell_type": "markdown",
   "metadata": {
    "id": "-Yr5xlW3rx21"
   },
   "source": [
    "## Discussion and justification on the approaches taken for the above"
   ]
  },
  {
   "cell_type": "markdown",
   "metadata": {},
   "source": [
    "<h3>Chromosome</h3>"
   ]
  },
  {
   "cell_type": "markdown",
   "metadata": {},
   "source": [
    "As can be seen from the code each chromosome has the next genes in these ranges:\n",
    "1. Numeric values:\n",
    "    - Age: values range from -500 to -50\n",
    "    - Odometer: values range from -0.005 to -0.1\n",
    "    - Condition: values range from 0 to 500\n",
    "2. Categorical values:\n",
    "    - Manufacturer: values range from -1000 to 20,000\n",
    "    - Cylinders: values range from 100 to 1,000\n",
    "    - Fuel type: values range from 0 to 1,000\n",
    "    - Transmission: values range from 0 to 5,000\n",
    "    - Drive type: values range from 0 to 2,000\n",
    "    - Size: values range from 0 to 2,000\n",
    "    - Car type (e.g., SUV, sedan): values range from 0 to 5,000\n",
    "    - State (location): values range from -1,000 to 1,000\n",
    "    \n",
    "  Some genes in the chromosome were assigned fully or partially negative value ranges based on assumptions about their typical influence on a car's price: <br> <br>\n",
    "   Age and Odometer: As mentioned earlier, it is assumed that the older a car is and the more it has been used, the lower its value tends to be. Therefore, both features were assigned negative ranges. The odometer range is relatively small because the raw values in the dataset span a wide range—from around 10,000 to over 10 million—whereas car prices are generally much smaller. Scaling the odometer values ensures that they contribute proportionally to the total cost. <br> <br>\n",
    "   Manufacturer and State: These features were also allowed to have negative weights. While not all manufacturers or locations reduce a car’s price, the assumption is that some combinations—such as a specific brand paired with high mileage or certain drivetrain types—may lower the vehicle's overall value. Similarly, the state where the car is sold might influence price due to external factors such as crime rate, infrastructure quality, or local market demand. Although the cost function must generalize across all data, allowing negative weights here helps better fit regional and brand-specific pricing trends. <br> <br>\n",
    "   Additionally, the condition feature, while originally categorical, was treated as numerical. This decision was based on the assumption that sellers tend to slightly overstate a car’s condition, making it less reliable as a strong price indicator. To include it in the cost function effectively, condition categories were assigned decreasing numeric values starting from “new” (highest) down to “salvage” (lowest), under the assumption that only new or near-new conditions significantly impact price. However, this approach is imperfect, as there are cases where a new vehicle may be less valuable than a well-maintained used one, or where the reported condition doesn’t reflect reality. <br> <br>\n",
    "   Other features, such as transmission type, fuel, drive, and car size, were assigned positive ranges, but this does not mean their weights must always remain positive. Both crossover and mutation functions are designed to explore the full range of possible weights—positive or negative—to discover the best combination that minimizes prediction error and finds the optimal solution"
   ]
  },
  {
   "cell_type": "markdown",
   "metadata": {},
   "source": [
    "<h3>Crossover</h3>"
   ]
  },
  {
   "cell_type": "markdown",
   "metadata": {},
   "source": [
    "<h6>The first child generating algorithm</h6>\n",
    "The crossover function generates two children using different strategies. The first child is created by combining genes from both parents based on their performance (cost). Specifically, a weighted average of each gene is calculated, where the weights are determined by how well each parent performed—i.e., how \"fit\" they are based on the cost function.\n",
    "For example, consider a gene like age: if Parent 1 has a value of -300 and a better (lower) cost of -3000, while Parent 2 has a value of -200 with a cost of -5000, the algorithm will favor Parent 1 more. Assuming a calculated crossover rate results in a 70/30 weighting, the child’s age gene would be:\n",
    "-300 * 0.7 + -200 * 0.3 = -270\n",
    "This approach is applied across all numeric genes, whether they are positive (e.g., condition or manufacturer) or negative (e.g., odometer or age).\n",
    "The weighting ratio is determined by the crossover rate, which is calculated based on the difference between the better and worse parent. The child receives a higher proportion of genes from the fitter parent to increase the chances of passing down beneficial traits. For example, if Parent 1 has better performance for negative cost components (like mileage or age), the child will inherit a larger portion of those specific genes from Parent 1. Conversely, if Parent 2 performs better in positive cost components (like condition or manufacturer), those genes will be more heavily weighted in favor of Parent 2. \n",
    "This targeted blending strategy is designed to minimize total cost by leveraging each parent’s strongest traits and guiding the algorithm toward better solutions over time. By prioritizing gene inheritance based on individual strengths, the algorithm avoids random mixing and instead promotes gradual improvement across generations. This approach not only accelerates convergence but also increases the likelihood of finding a well-balanced and generalizable solution\n",
    "\n",
    "<h6>The second child generating algorithm</h6>\n",
    "The second child is generated using a gene selection method that takes complete genes from either parent without modification. Unlike the first child, which blends values, this approach selects entire gene values directly—e.g., taking age, manufacturer, fuel, and size from Parent 1, while the remaining genes (e.g., odometer, condition, drive) are taken from Parent 2. This method aims to explore combinations of already optimized genes rather than averaging them, allowing the algorithm to preserve strong traits exactly as they appear in each parent.\n",
    "For instance, if Parent 1 has a manufacturer weight that is incorrectly negative, while Parent 2 has a more appropriate positive value, and if Parent 1 also has a correct negative value for a different feature (e.g., state), the child may end up with both optimal values: the positive manufacturer weight from Parent 2 and the correct negative state value from Parent 1. While not guaranteed to always reduce the cost—since some combinations may unintentionally worsen performance—this strategy increases genetic diversity and helps the algorithm discover more effective feature groupings over time. This technique supports broader exploration of the solution space, improving the chance of finding high-quality individuals across generations.\n",
    "Detailed description of how this algorithm works is displayer below:\n",
    "<br>Parent1   Parent2   Child\n",
    "<br> 12         47      47\n",
    "<br> 33         88      33\n",
    "<br> 75         19      75\n",
    "<br> 61         61      61\n",
    "<br>  8         90      8\n",
    "<br> 44         11      11\n",
    "<br> 29         73      73\n",
    "<br> 50         36      36\n",
    "<br> 97         20      97\n",
    "<br> 45         66      45\n",
    "\n",
    "\n"
   ]
  },
  {
   "cell_type": "markdown",
   "metadata": {},
   "source": [
    "<h3>Mutation</h3>"
   ]
  },
  {
   "cell_type": "markdown",
   "metadata": {},
   "source": [
    "The mutation algorithm is relatively straightforward. It iterates through each gene and, for every gene, generates a random number between 0 and 1. If this number exceeds a predefined mutation rate, the gene is selected for mutation. The direction of mutation is guided by the individual's current cost: if the negative component of the cost is greater, the algorithm attempts to decrease negatively weighted genes and increase positively weighted ones. Conversely, if the positive cost dominates, it increases negative genes and reduces positive ones.\n",
    "\n",
    "This targeted adjustment strategy allows the algorithm to focus on correcting the most costly components of the individual, rather than introducing entirely random noise. In testing, this method has consistently shown to improve the overall fitness of individuals, helping the genetic algorithm converge more efficiently toward better solutions."
   ]
  },
  {
   "cell_type": "markdown",
   "metadata": {
    "id": "59WmNNhiscZ9"
   },
   "source": [
    "## Running the algorithm  **(~10%)**\n",
    "\n",
    "*   Parameter choices\n",
    "*   Modifications (if any) to run_genetic\n",
    "*   Rationale for the above\n",
    "\n"
   ]
  },
  {
   "cell_type": "code",
   "execution_count": 11,
   "metadata": {
    "id": "qYE-UMBos_nR"
   },
   "outputs": [],
   "source": [
    "class parameters:\n",
    "    def __init__(self):\n",
    "        self.population  = 8\n",
    "        self.number_of_generations = 50\n",
    "        self.child_rate_per_generation = 1\n",
    "        self.crossover_explore_rate = 0.3\n",
    "        self.gene_mutate_range = 0.2\n",
    "        self.gene_mutate_rate = 0.3"
   ]
  },
  {
   "cell_type": "markdown",
   "metadata": {},
   "source": [
    "As seen in the parameter settings, both the population size and number of generations were significantly reduced, and this decision was driven by several practical considerations:\n",
    "- The algorithm is computationally expensive. With over 70,000 rows in the dataset, generating 1,000 individuals takes more than 10 minutes. Additionally, both the crossover and mutation functions require individuals to have an up-to-date and valid cost value. If this cost is outdated, operations can yield incorrect results, meaning frequent re-evaluation adds substantial processing time—potentially multiplying total runtime by four or more.\n",
    "- The mutation and crossover functions were intentionally designed to iteratively improve the same individuals across multiple generations. This makes the algorithm more effective when working with fewer individuals over more generations, rather than a large, diverse population in each cycle. A larger population increases the chance of skipping over promising individuals before they can be refined, whereas a smaller, consistent population allows repeated improvement and convergence toward better solutions."
   ]
  },
  {
   "cell_type": "code",
   "execution_count": 12,
   "metadata": {},
   "outputs": [],
   "source": [
    "def choose_indices_from(length):\n",
    "    index1 = random.randint(0, length - 1)\n",
    "    index2 = random.randint(0, length - 1)\n",
    "    if index1 == index2:\n",
    "        return choose_indices_from(length)\n",
    "    return (index1, index2)"
   ]
  },
  {
   "cell_type": "markdown",
   "metadata": {},
   "source": [
    "One important modification made to the run_genetic function was the addition of a cost update after each mutation. Specifically, once an individual undergoes mutation, its cost is immediately recalculated by calling the cost function. This adjustment is essential because, as mentioned earlier, both the mutation and crossover operations rely on accurate and up-to-date cost values to make informed decisions. Without this step, subsequent operations could use outdated fitness scores, leading to incorrect gene adjustments and suboptimal offspring generation"
   ]
  },
  {
   "cell_type": "code",
   "execution_count": 13,
   "metadata": {
    "id": "uMURavCWtEan"
   },
   "outputs": [],
   "source": [
    "def run_genetic(prob, params):\n",
    "    cost_function = prob.cost_function\n",
    "\n",
    "    number_in_population = params.population\n",
    "    max_number_of_generations = params.number_of_generations\n",
    "    number_of_children_per_generation = params.child_rate_per_generation * number_in_population\n",
    "    explore_crossover = params.crossover_explore_rate\n",
    "    gene_mutate_rate = params.gene_mutate_rate\n",
    "    gene_mutate_range = params.gene_mutate_range\n",
    "\n",
    "    population = []\n",
    "\n",
    "    best_solution = individual(prob)\n",
    "    best_solution.cost = (np.infty, np.infty)\n",
    "    for i in range(number_in_population):\n",
    "        new_individual = individual(prob)\n",
    "        population.append(new_individual)\n",
    "        if new_individual.get_cost() < best_solution.get_cost():\n",
    "            best_solution = deepcopy(new_individual)\n",
    "    print(\"First \" + str(number_in_population) + \" individuals are ready\")\n",
    "    for _iteration in range(max_number_of_generations):\n",
    "        children = []\n",
    "        while len(children) < number_of_children_per_generation:\n",
    "            parent1_index , parent2_index = choose_indices_from(len(population))\n",
    "            parent1 = population[parent1_index]\n",
    "            parent2 = population[parent2_index]       \n",
    "            child1, child2 = parent1.crossover(parent2,explore_crossover)\n",
    "            child1.cost = cost_function(child1.chromosome)\n",
    "            child2.cost = cost_function(child2.chromosome)\n",
    "            child1.mutate(gene_mutate_rate, gene_mutate_range)\n",
    "            child1.cost = cost_function(child1.chromosome)\n",
    "            child2.mutate(gene_mutate_rate, gene_mutate_range)\n",
    "            child2.cost = cost_function(child2.chromosome)\n",
    "            children.append(individual(prob))\n",
    "            children.append(individual(prob))\n",
    "        \n",
    "        population+=children\n",
    "        population = sorted(population, key = lambda x:x.get_cost())          \n",
    "        population = population[:number_in_population]\n",
    "        \n",
    "        if population[0].get_cost() < best_solution.get_cost():\n",
    "            best_solution = deepcopy(population[0])\n",
    "        print(\"Best Solution for iteration \" + str(_iteration) + \" has cost of \" + str(best_solution.get_cost()))\n",
    "    return best_solution"
   ]
  },
  {
   "cell_type": "code",
   "execution_count": 14,
   "metadata": {},
   "outputs": [
    {
     "name": "stdout",
     "output_type": "stream",
     "text": [
      "First 8 individuals are ready\n",
      "Best Solution for iteration 0 has cost of 14267.00018562216\n",
      "Best Solution for iteration 1 has cost of 14267.00018562216\n",
      "Best Solution for iteration 2 has cost of 14267.00018562216\n",
      "Best Solution for iteration 3 has cost of 14267.00018562216\n",
      "Best Solution for iteration 4 has cost of 13808.943784728986\n",
      "Best Solution for iteration 5 has cost of 13808.943784728986\n",
      "Best Solution for iteration 6 has cost of 13808.943784728986\n",
      "Best Solution for iteration 7 has cost of 13808.943784728986\n",
      "Best Solution for iteration 8 has cost of 13808.943784728986\n",
      "Best Solution for iteration 9 has cost of 13808.943784728986\n",
      "Best Solution for iteration 10 has cost of 13808.943784728986\n",
      "Best Solution for iteration 11 has cost of 13808.943784728986\n",
      "Best Solution for iteration 12 has cost of 13808.943784728986\n",
      "Best Solution for iteration 13 has cost of 13808.943784728986\n",
      "Best Solution for iteration 14 has cost of 13808.943784728986\n",
      "Best Solution for iteration 15 has cost of 13808.943784728986\n",
      "Best Solution for iteration 16 has cost of 13777.948989511357\n",
      "Best Solution for iteration 17 has cost of 13777.948989511357\n",
      "Best Solution for iteration 18 has cost of 13777.948989511357\n",
      "Best Solution for iteration 19 has cost of 13777.948989511357\n",
      "Best Solution for iteration 20 has cost of 13777.948989511357\n",
      "Best Solution for iteration 21 has cost of 13777.948989511357\n",
      "Best Solution for iteration 22 has cost of 13777.948989511357\n",
      "Best Solution for iteration 23 has cost of 13777.948989511357\n",
      "Best Solution for iteration 24 has cost of 13777.948989511357\n",
      "Best Solution for iteration 25 has cost of 13777.948989511357\n",
      "Best Solution for iteration 26 has cost of 13777.948989511357\n",
      "Best Solution for iteration 27 has cost of 13777.948989511357\n",
      "Best Solution for iteration 28 has cost of 13777.948989511357\n",
      "Best Solution for iteration 29 has cost of 13777.948989511357\n",
      "Best Solution for iteration 30 has cost of 13777.948989511357\n",
      "Best Solution for iteration 31 has cost of 13777.948989511357\n",
      "Best Solution for iteration 32 has cost of 13777.948989511357\n",
      "Best Solution for iteration 33 has cost of 13777.948989511357\n",
      "Best Solution for iteration 34 has cost of 13777.948989511357\n",
      "Best Solution for iteration 35 has cost of 13777.948989511357\n",
      "Best Solution for iteration 36 has cost of 13777.948989511357\n",
      "Best Solution for iteration 37 has cost of 13777.948989511357\n",
      "Best Solution for iteration 38 has cost of 13492.166902332428\n",
      "Best Solution for iteration 39 has cost of 13492.166902332428\n",
      "Best Solution for iteration 40 has cost of 13492.166902332428\n",
      "Best Solution for iteration 41 has cost of 13492.166902332428\n",
      "Best Solution for iteration 42 has cost of 13492.166902332428\n",
      "Best Solution for iteration 43 has cost of 13492.166902332428\n",
      "Best Solution for iteration 44 has cost of 13492.166902332428\n",
      "Best Solution for iteration 45 has cost of 13492.166902332428\n",
      "Best Solution for iteration 46 has cost of 13492.166902332428\n",
      "Best Solution for iteration 47 has cost of 13492.166902332428\n",
      "Best Solution for iteration 48 has cost of 13492.166902332428\n",
      "Best Solution for iteration 49 has cost of 13492.166902332428\n"
     ]
    }
   ],
   "source": [
    "params = parameters()\n",
    "prob = problem()\n",
    "best_solution = run_genetic(prob, params)"
   ]
  },
  {
   "cell_type": "code",
   "execution_count": 15,
   "metadata": {},
   "outputs": [
    {
     "data": {
      "text/plain": [
       "(4811.091454172307, -8681.075448160122)"
      ]
     },
     "execution_count": 15,
     "metadata": {},
     "output_type": "execute_result"
    }
   ],
   "source": [
    "best_solution.cost"
   ]
  },
  {
   "cell_type": "code",
   "execution_count": 16,
   "metadata": {},
   "outputs": [
    {
     "data": {
      "text/plain": [
       "[{'manufacturer': [12780.473275209362,\n",
       "   5419.683747004315,\n",
       "   13400.858080932538,\n",
       "   11403.835982738885,\n",
       "   10783.897456511264,\n",
       "   14894.395249484416,\n",
       "   5958.721307473866,\n",
       "   16914.912922210082,\n",
       "   11602.730624677559,\n",
       "   7836.490460612058,\n",
       "   -44.41862619431856,\n",
       "   14129.447044818047,\n",
       "   17121.949797880683,\n",
       "   12325.431667996301,\n",
       "   15823.853198423967,\n",
       "   4898.837156026521,\n",
       "   9693.652827337655,\n",
       "   672.0633885412444,\n",
       "   17161.365321545145,\n",
       "   16304.274507163234,\n",
       "   8553.197650046082,\n",
       "   19953.646015276547,\n",
       "   12479.279196509891,\n",
       "   6033.778683351913,\n",
       "   7966.13008700321,\n",
       "   17122.70301758327,\n",
       "   19076.235908916096,\n",
       "   4521.934407393283,\n",
       "   4478.073525716891,\n",
       "   17766.682955440167,\n",
       "   1446.2144322863182,\n",
       "   15497.516624963639,\n",
       "   9434.415022435773,\n",
       "   8797.795053911163,\n",
       "   5660.421006169499,\n",
       "   3102.4064413631822,\n",
       "   10518.734694699338,\n",
       "   9921.695646989057],\n",
       "  'cylinders': [483.7384822173725,\n",
       "   797.1008173558943,\n",
       "   720.7332794058178,\n",
       "   576.2627180122197,\n",
       "   936.0752952108551,\n",
       "   486.6445293235607,\n",
       "   230.57894079019718],\n",
       "  'fuel': [768.4206630952158,\n",
       "   478.02563752855565,\n",
       "   777.2379712728974,\n",
       "   33.78521282219571],\n",
       "  'transmission': [2841.4470404491935, 2236.201439332362],\n",
       "  'drive': [1103.8741568367095, 1688.691307616561, 1153.5541651167098],\n",
       "  'size': [487.903703913577,\n",
       "   478.50155151598403,\n",
       "   1493.8534028617698,\n",
       "   441.9354962074762],\n",
       "  'type': [3944.274711568182,\n",
       "   1771.6560279987386,\n",
       "   3679.847858722354,\n",
       "   320.21171792924684,\n",
       "   3374.4177100451466,\n",
       "   3148.0988949817984,\n",
       "   2352.722266531323,\n",
       "   4946.695342491229,\n",
       "   2401.16131086488,\n",
       "   3210.075156498873,\n",
       "   3113.3946218902447,\n",
       "   552.7609099001518],\n",
       "  'state': [-404.5545128706043,\n",
       "   316.8603243161615,\n",
       "   -596.492306811466,\n",
       "   -173.60292063812756,\n",
       "   956.5284555945691,\n",
       "   -187.70999572949165,\n",
       "   580.3333948164861,\n",
       "   -352.6380698727179,\n",
       "   994.8157530951937,\n",
       "   -949.4968085809433,\n",
       "   953.3691734620559,\n",
       "   -572.780586964375,\n",
       "   365.7284850889971,\n",
       "   168.03371103760878,\n",
       "   829.3039278520891,\n",
       "   486.21223036074366,\n",
       "   -47.315727088307085,\n",
       "   -971.8398432469469,\n",
       "   609.2600948671611,\n",
       "   -944.2855179495447,\n",
       "   486.4152039282312,\n",
       "   -416.6309628181275,\n",
       "   -781.5126328927382,\n",
       "   -896.2654388283252,\n",
       "   -381.591770073004,\n",
       "   715.2256518482618,\n",
       "   -511.20819444271893,\n",
       "   -417.93770215381176,\n",
       "   -128.18731185452043,\n",
       "   633.6667492943536,\n",
       "   354.8422086420235,\n",
       "   -896.9073978915436,\n",
       "   -409.9660827912244,\n",
       "   474.43131695465377,\n",
       "   -414.29987947718996,\n",
       "   -653.5173974787516,\n",
       "   561.8619502794415,\n",
       "   688.2968517885972,\n",
       "   -306.28071571423266,\n",
       "   705.4582203213174,\n",
       "   458.70655314697683,\n",
       "   388.82276829310285,\n",
       "   656.6515223255806,\n",
       "   -182.77467272858576,\n",
       "   -855.1657784035751,\n",
       "   543.318871729607,\n",
       "   568.0687534047111,\n",
       "   238.7357927982316,\n",
       "   435.05839930132674,\n",
       "   247.2721519710542,\n",
       "   605.4227539169078]},\n",
       " {'age': -252.36052476056815,\n",
       "  'odometer': -0.07369735492894021,\n",
       "  'condition': 483.34886893267293}]"
      ]
     },
     "execution_count": 16,
     "metadata": {},
     "output_type": "execute_result"
    }
   ],
   "source": [
    "best_solution.chromosome"
   ]
  },
  {
   "cell_type": "code",
   "execution_count": 111,
   "metadata": {
    "id": "KUrAxEdDtTmf"
   },
   "outputs": [
    {
     "data": {
      "text/plain": [
       "(5739.185689658155, -7759.022254086618)"
      ]
     },
     "execution_count": 111,
     "metadata": {},
     "output_type": "execute_result"
    }
   ],
   "source": [
    "best_solution.cost"
   ]
  },
  {
   "cell_type": "code",
   "execution_count": 113,
   "metadata": {},
   "outputs": [
    {
     "name": "stdout",
     "output_type": "stream",
     "text": [
      "First 8 individuals are ready\n",
      "Best Solution for iteration 0 has cost of 14696.262029098465\n",
      "Best Solution for iteration 1 has cost of 14696.262029098465\n",
      "Best Solution for iteration 2 has cost of 14696.262029098465\n",
      "Best Solution for iteration 3 has cost of 14075.065899904454\n",
      "Best Solution for iteration 4 has cost of 14075.065899904454\n",
      "Best Solution for iteration 5 has cost of 14075.065899904454\n",
      "Best Solution for iteration 6 has cost of 14075.065899904454\n",
      "Best Solution for iteration 7 has cost of 14075.065899904454\n",
      "Best Solution for iteration 8 has cost of 14075.065899904454\n",
      "Best Solution for iteration 9 has cost of 14075.065899904454\n",
      "Best Solution for iteration 10 has cost of 14075.065899904454\n",
      "Best Solution for iteration 11 has cost of 14075.065899904454\n",
      "Best Solution for iteration 12 has cost of 14075.065899904454\n",
      "Best Solution for iteration 13 has cost of 13586.56634464151\n",
      "Best Solution for iteration 14 has cost of 13586.56634464151\n",
      "Best Solution for iteration 15 has cost of 13586.56634464151\n",
      "Best Solution for iteration 16 has cost of 13586.56634464151\n",
      "Best Solution for iteration 17 has cost of 13586.56634464151\n",
      "Best Solution for iteration 18 has cost of 13586.56634464151\n",
      "Best Solution for iteration 19 has cost of 13586.56634464151\n",
      "Best Solution for iteration 20 has cost of 13586.56634464151\n",
      "Best Solution for iteration 21 has cost of 13586.56634464151\n",
      "Best Solution for iteration 22 has cost of 13586.56634464151\n",
      "Best Solution for iteration 23 has cost of 13252.244251637665\n",
      "Best Solution for iteration 24 has cost of 13252.244251637665\n",
      "Best Solution for iteration 25 has cost of 13252.244251637665\n",
      "Best Solution for iteration 26 has cost of 13252.244251637665\n",
      "Best Solution for iteration 27 has cost of 13252.244251637665\n",
      "Best Solution for iteration 28 has cost of 13252.244251637665\n",
      "Best Solution for iteration 29 has cost of 13252.244251637665\n",
      "Best Solution for iteration 30 has cost of 13252.244251637665\n",
      "Best Solution for iteration 31 has cost of 13252.244251637665\n",
      "Best Solution for iteration 32 has cost of 13252.244251637665\n",
      "Best Solution for iteration 33 has cost of 13252.244251637665\n",
      "Best Solution for iteration 34 has cost of 13252.244251637665\n",
      "Best Solution for iteration 35 has cost of 13252.244251637665\n",
      "Best Solution for iteration 36 has cost of 13252.244251637665\n",
      "Best Solution for iteration 37 has cost of 13252.244251637665\n",
      "Best Solution for iteration 38 has cost of 13252.244251637665\n",
      "Best Solution for iteration 39 has cost of 13252.244251637665\n",
      "Best Solution for iteration 40 has cost of 13252.244251637665\n",
      "Best Solution for iteration 41 has cost of 13252.244251637665\n",
      "Best Solution for iteration 42 has cost of 13252.244251637665\n",
      "Best Solution for iteration 43 has cost of 13252.244251637665\n",
      "Best Solution for iteration 44 has cost of 13252.244251637665\n",
      "Best Solution for iteration 45 has cost of 13252.244251637665\n",
      "Best Solution for iteration 46 has cost of 13252.244251637665\n",
      "Best Solution for iteration 47 has cost of 13252.244251637665\n",
      "Best Solution for iteration 48 has cost of 13252.244251637665\n",
      "Best Solution for iteration 49 has cost of 13252.244251637665\n",
      "Best Solution for iteration 50 has cost of 13252.244251637665\n",
      "Best Solution for iteration 51 has cost of 13252.244251637665\n",
      "Best Solution for iteration 52 has cost of 13252.244251637665\n",
      "Best Solution for iteration 53 has cost of 13252.244251637665\n",
      "Best Solution for iteration 54 has cost of 13252.244251637665\n",
      "Best Solution for iteration 55 has cost of 13252.244251637665\n",
      "Best Solution for iteration 56 has cost of 13252.244251637665\n",
      "Best Solution for iteration 57 has cost of 13252.244251637665\n",
      "Best Solution for iteration 58 has cost of 13252.244251637665\n",
      "Best Solution for iteration 59 has cost of 13252.244251637665\n",
      "Best Solution for iteration 60 has cost of 13252.244251637665\n",
      "Best Solution for iteration 61 has cost of 13252.244251637665\n",
      "Best Solution for iteration 62 has cost of 13252.244251637665\n",
      "Best Solution for iteration 63 has cost of 13252.244251637665\n",
      "Best Solution for iteration 64 has cost of 13252.244251637665\n",
      "Best Solution for iteration 65 has cost of 13252.244251637665\n",
      "Best Solution for iteration 66 has cost of 13252.244251637665\n",
      "Best Solution for iteration 67 has cost of 13252.244251637665\n",
      "Best Solution for iteration 68 has cost of 13252.244251637665\n",
      "Best Solution for iteration 69 has cost of 13252.244251637665\n",
      "Best Solution for iteration 70 has cost of 13190.73902324513\n",
      "Best Solution for iteration 71 has cost of 13190.73902324513\n",
      "Best Solution for iteration 72 has cost of 13190.73902324513\n",
      "Best Solution for iteration 73 has cost of 13190.73902324513\n",
      "Best Solution for iteration 74 has cost of 13190.73902324513\n",
      "Best Solution for iteration 75 has cost of 13190.73902324513\n",
      "Best Solution for iteration 76 has cost of 13190.73902324513\n",
      "Best Solution for iteration 77 has cost of 13190.73902324513\n",
      "Best Solution for iteration 78 has cost of 13190.73902324513\n",
      "Best Solution for iteration 79 has cost of 13190.73902324513\n",
      "Best Solution for iteration 80 has cost of 13190.73902324513\n",
      "Best Solution for iteration 81 has cost of 13190.73902324513\n",
      "Best Solution for iteration 82 has cost of 13190.73902324513\n",
      "Best Solution for iteration 83 has cost of 13190.73902324513\n",
      "Best Solution for iteration 84 has cost of 13190.73902324513\n",
      "Best Solution for iteration 85 has cost of 13190.73902324513\n",
      "Best Solution for iteration 86 has cost of 13190.73902324513\n",
      "Best Solution for iteration 87 has cost of 13190.73902324513\n",
      "Best Solution for iteration 88 has cost of 13190.73902324513\n",
      "Best Solution for iteration 89 has cost of 13190.73902324513\n",
      "Best Solution for iteration 90 has cost of 13190.73902324513\n",
      "Best Solution for iteration 91 has cost of 13190.73902324513\n",
      "Best Solution for iteration 92 has cost of 13190.73902324513\n",
      "Best Solution for iteration 93 has cost of 13190.73902324513\n",
      "Best Solution for iteration 94 has cost of 13190.73902324513\n",
      "Best Solution for iteration 95 has cost of 13190.73902324513\n",
      "Best Solution for iteration 96 has cost of 13190.73902324513\n",
      "Best Solution for iteration 97 has cost of 13190.73902324513\n",
      "Best Solution for iteration 98 has cost of 13190.73902324513\n",
      "Best Solution for iteration 99 has cost of 13190.73902324513\n"
     ]
    }
   ],
   "source": [
    "params = parameters()\n",
    "prob = problem()\n",
    "best_solution = run_genetic(prob, params)"
   ]
  },
  {
   "cell_type": "code",
   "execution_count": 114,
   "metadata": {},
   "outputs": [
    {
     "data": {
      "text/plain": [
       "(3895.0268527143976, -9295.712170530733)"
      ]
     },
     "execution_count": 114,
     "metadata": {},
     "output_type": "execute_result"
    }
   ],
   "source": [
    "best_solution.cost"
   ]
  },
  {
   "cell_type": "markdown",
   "metadata": {
    "id": "Hupr4W2_tmZA"
   },
   "source": [
    "## Results and conclusions    **(~10%)**"
   ]
  },
  {
   "cell_type": "markdown",
   "metadata": {
    "id": "p0Yqo3GeuVtn"
   },
   "source": [
    "To demonstrate the working equation a price of all used cars were calculated using found equation:"
   ]
  },
  {
   "cell_type": "code",
   "execution_count": 33,
   "metadata": {},
   "outputs": [],
   "source": [
    "#Calculating all cars prices using the Geneteric Algorithm equation and the difference with the actual price\n",
    "used_car_prices_calculated = []\n",
    "diff_car_prices = []\n",
    "genes = best_solution.chromosome\n",
    "for index, used_car in used_cars.iterrows():\n",
    "    str_sum = 0\n",
    "    for gene in genes[0]:\n",
    "        str_sum = str_sum + genes[0][gene][int(used_car[gene] - 1)]\n",
    "        \n",
    "    int_sum = genes[1]['age'] * used_car['age'] + genes[1]['odometer'] * used_car['odometer'] + genes[1]['condition'] * used_car['condition']\n",
    "        \n",
    "    used_car_prices_calculated.append(str_sum + int_sum)\n",
    "    diff_car_prices.append(used_car['price'] - str_sum + int_sum)"
   ]
  },
  {
   "cell_type": "code",
   "execution_count": 34,
   "metadata": {},
   "outputs": [
    {
     "data": {
      "image/png": "[encoded data removed]",
      "text/plain": [
       "<Figure size 640x480 with 1 Axes>"
      ]
     },
     "metadata": {},
     "output_type": "display_data"
    }
   ],
   "source": [
    "#Building a plot with actual values and predicted\n",
    "plt.scatter(range(len(used_car_prices_calculated)), used_car_prices_calculated, color='green', label='calculated price')\n",
    "plt.scatter(range(len(used_cars['price'])), used_cars['price'], color='red', label='Actual price')\n",
    "\n",
    "plt.xlabel('Index')\n",
    "plt.ylabel('Value')\n",
    "plt.title('Comparing actual price and calculated price with found equation')\n",
    "plt.legend()\n",
    "plt.show()"
   ]
  },
  {
   "cell_type": "code",
   "execution_count": 36,
   "metadata": {},
   "outputs": [
    {
     "data": {
      "image/png": "[encoded data removed]",
      "text/plain": [
       "<Figure size 640x480 with 1 Axes>"
      ]
     },
     "metadata": {},
     "output_type": "display_data"
    }
   ],
   "source": [
    "#Building a plot with diference between actual values and predicted\n",
    "plt.scatter(range(len(diff_car_prices)), diff_car_prices, color='blue', label='Difference')\n",
    "plt.xlabel('Index')\n",
    "plt.ylabel('Value')\n",
    "plt.title('The difference between the actual price and calculated price')\n",
    "plt.legend()\n",
    "plt.show()"
   ]
  },
  {
   "cell_type": "code",
   "execution_count": 52,
   "metadata": {},
   "outputs": [
    {
     "name": "stdout",
     "output_type": "stream",
     "text": [
      "Count of the used cars in which\n",
      "The difference between actual and calculated price is less than 100: 127\n",
      "The difference actual and calculated price is less than 500: 623\n",
      "The difference actual and calculated price is less than 1000: 1289\n",
      "The difference actual and calculated price is less than 10000: 14239\n"
     ]
    }
   ],
   "source": [
    "print(\"Count of the used cars in which\")\n",
    "print(\"The difference between actual and calculated price is less than 100: \" + str(len([num for num in diff_car_prices if num < 100 and num > -100])))\n",
    "print(\"The difference actual and calculated price is less than 500: \" + str(len([num for num in diff_car_prices if num < 500 and num > -500])))\n",
    "print(\"The difference actual and calculated price is less than 1000: \" + str(len([num for num in diff_car_prices if num < 1000 and num > -1000])))\n",
    "print(\"The difference actual and calculated price is less than 10000: \" + str(len([num for num in diff_car_prices if num < 10000 and num > -10000])))"
   ]
  },
  {
   "cell_type": "markdown",
   "metadata": {},
   "source": [
    "<h2>Result evaluation and conclusion</h2>\n",
    "\n",
    "As seen in both graphs, the results are far from perfect. There are several possible reasons for this, starting with the most obvious: the equation used to model the problem is not well-suited for this type of task. All parameters were either added or subtracted from the total price, while some of them should have been multiplied instead.\n",
    "\n",
    "For example, age was simply subtracted from the price, whereas in reality, car prices typically decrease by a percentage over time - and this rate can vary depending on the car type. In the results, the age gene ended up being -253, meaning that for every year of usage, the price of any car is reduced by 253 units. While this might make sense for lower-priced vehicles, it becomes unrealistic for more expensive cars. For instance, if a car originally costs100,000, a 10-year depreciation of only $2,530 is clearly inaccurate. This highlights a key flaw: the model assumes a flat linear decrease in price, rather than a percentage-based reduction, and fails to capture the real-world non-linear relationship between age and value. Although multiplication-based adjustments were also tested during this assignment, the results were quite similar to the basic approach. In both cases, the cost function remained linear and lacked the use of more advanced mathematical operations such as logarithms, roots, powers, or exponential decay — all of which could more accurately model such relationships\n",
    "\n",
    "Another reason for the poor results could be the inclusion of irrelevant features or omission of important ones. For example, as mentioned earlier, the \"condition\" of a car doesn’t always affect its price accurately, since sellers tend to overstate it. The \"state\" parameter was also included in the equation, though it likely has very little actual impact on price - yet it was given significant weight. On the flip side, important properties like whether the car had been in an accident or how often it was maintained were missing from the dataset entirely. Such factors would have had a significant influence on price.\n",
    "\n",
    "A further issue lies in the number of individuals and generations used in the evolutionary algorithm. The algorithm was designed to slightly mutate individuals after crossover to gradually reduce the total cost and improve the solution. However, even with 50 individuals and a target of 100 generations, the process ran for 11 hours and completed only around 30–40 generations. For this type of problem, ideally the algorithm would run for thousands of generations to allow for more gene swapping and mutations, which are crucial for improving the cost function.\n",
    "\n",
    "Finally, a key assumption in the model may have led to inaccurate results: the idea that certain parameters should always increase or decrease the price. For example, \"condition\" was always treated as a positive influence — but in reality, labels like \"salvage\" or even \"good\" condition can significantly lower a car’s value. Similarly, the number of cylinders was assumed to increase value, while in practice, it can reduce a car’s desirability due to higher fuel consumption. These oversimplifications ignored the fact that the effect of one parameter can depend heavily on others, which led to a less accurate cost function"
   ]
  }
 ],
 "metadata": {
  "colab": {
   "provenance": []
  },
  "kernelspec": {
   "display_name": "Python 3 (ipykernel)",
   "language": "python",
   "name": "python3"
  },
  "language_info": {
   "codemirror_mode": {
    "name": "ipython",
    "version": 3
   },
   "file_extension": ".py",
   "mimetype": "text/x-python",
   "name": "python",
   "nbconvert_exporter": "python",
   "pygments_lexer": "ipython3",
   "version": "3.11.4"
  }
 },
 "nbformat": 4,
 "nbformat_minor": 1
}
